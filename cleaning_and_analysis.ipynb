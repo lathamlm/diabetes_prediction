{
 "cells": [
  {
   "cell_type": "markdown",
   "metadata": {},
   "source": [
    "## Import dependencies and read csv"
   ]
  },
  {
   "cell_type": "code",
   "execution_count": 1,
   "metadata": {},
   "outputs": [
    {
     "name": "stdout",
     "output_type": "stream",
     "text": [
      "Using TensorFlow backend\n"
     ]
    }
   ],
   "source": [
    "import keras_tuner as kt\n",
    "import pandas as pd\n",
    "from pathlib import Path\n",
    "from sklearn import tree\n",
    "from sklearn.model_selection import train_test_split\n",
    "from sklearn.preprocessing import StandardScaler\n",
    "from sklearn.metrics import confusion_matrix, accuracy_score, classification_report\n",
    "import tensorflow as tf\n",
    "from sklearn.ensemble import RandomForestClassifier\n",
    "\n",
    "import pydotplus\n",
    "from IPython.display import Image\n",
    "\n",
    "#from tensorflow import keras\n",
    "#from tensorflow.keras.models import Sequential\n",
    "#from tensorflow.keras.layers import Dense, Activation"
   ]
  },
  {
   "cell_type": "code",
   "execution_count": 2,
   "metadata": {},
   "outputs": [
    {
     "data": {
      "text/html": [
       "<div>\n",
       "<style scoped>\n",
       "    .dataframe tbody tr th:only-of-type {\n",
       "        vertical-align: middle;\n",
       "    }\n",
       "\n",
       "    .dataframe tbody tr th {\n",
       "        vertical-align: top;\n",
       "    }\n",
       "\n",
       "    .dataframe thead th {\n",
       "        text-align: right;\n",
       "    }\n",
       "</style>\n",
       "<table border=\"1\" class=\"dataframe\">\n",
       "  <thead>\n",
       "    <tr style=\"text-align: right;\">\n",
       "      <th></th>\n",
       "      <th>Diabetes_012</th>\n",
       "      <th>HighBP</th>\n",
       "      <th>HighChol</th>\n",
       "      <th>CholCheck</th>\n",
       "      <th>BMI</th>\n",
       "      <th>Smoker</th>\n",
       "      <th>Stroke</th>\n",
       "      <th>HeartDiseaseorAttack</th>\n",
       "      <th>PhysActivity</th>\n",
       "      <th>Fruits</th>\n",
       "      <th>...</th>\n",
       "      <th>AnyHealthcare</th>\n",
       "      <th>NoDocbcCost</th>\n",
       "      <th>GenHlth</th>\n",
       "      <th>MentHlth</th>\n",
       "      <th>PhysHlth</th>\n",
       "      <th>DiffWalk</th>\n",
       "      <th>Sex</th>\n",
       "      <th>Age</th>\n",
       "      <th>Education</th>\n",
       "      <th>Income</th>\n",
       "    </tr>\n",
       "  </thead>\n",
       "  <tbody>\n",
       "    <tr>\n",
       "      <th>0</th>\n",
       "      <td>0.0</td>\n",
       "      <td>1.0</td>\n",
       "      <td>1.0</td>\n",
       "      <td>1.0</td>\n",
       "      <td>40.0</td>\n",
       "      <td>1.0</td>\n",
       "      <td>0.0</td>\n",
       "      <td>0.0</td>\n",
       "      <td>0.0</td>\n",
       "      <td>0.0</td>\n",
       "      <td>...</td>\n",
       "      <td>1.0</td>\n",
       "      <td>0.0</td>\n",
       "      <td>5.0</td>\n",
       "      <td>18.0</td>\n",
       "      <td>15.0</td>\n",
       "      <td>1.0</td>\n",
       "      <td>0.0</td>\n",
       "      <td>9.0</td>\n",
       "      <td>4.0</td>\n",
       "      <td>3.0</td>\n",
       "    </tr>\n",
       "    <tr>\n",
       "      <th>1</th>\n",
       "      <td>0.0</td>\n",
       "      <td>0.0</td>\n",
       "      <td>0.0</td>\n",
       "      <td>0.0</td>\n",
       "      <td>25.0</td>\n",
       "      <td>1.0</td>\n",
       "      <td>0.0</td>\n",
       "      <td>0.0</td>\n",
       "      <td>1.0</td>\n",
       "      <td>0.0</td>\n",
       "      <td>...</td>\n",
       "      <td>0.0</td>\n",
       "      <td>1.0</td>\n",
       "      <td>3.0</td>\n",
       "      <td>0.0</td>\n",
       "      <td>0.0</td>\n",
       "      <td>0.0</td>\n",
       "      <td>0.0</td>\n",
       "      <td>7.0</td>\n",
       "      <td>6.0</td>\n",
       "      <td>1.0</td>\n",
       "    </tr>\n",
       "    <tr>\n",
       "      <th>2</th>\n",
       "      <td>0.0</td>\n",
       "      <td>1.0</td>\n",
       "      <td>1.0</td>\n",
       "      <td>1.0</td>\n",
       "      <td>28.0</td>\n",
       "      <td>0.0</td>\n",
       "      <td>0.0</td>\n",
       "      <td>0.0</td>\n",
       "      <td>0.0</td>\n",
       "      <td>1.0</td>\n",
       "      <td>...</td>\n",
       "      <td>1.0</td>\n",
       "      <td>1.0</td>\n",
       "      <td>5.0</td>\n",
       "      <td>30.0</td>\n",
       "      <td>30.0</td>\n",
       "      <td>1.0</td>\n",
       "      <td>0.0</td>\n",
       "      <td>9.0</td>\n",
       "      <td>4.0</td>\n",
       "      <td>8.0</td>\n",
       "    </tr>\n",
       "    <tr>\n",
       "      <th>3</th>\n",
       "      <td>0.0</td>\n",
       "      <td>1.0</td>\n",
       "      <td>0.0</td>\n",
       "      <td>1.0</td>\n",
       "      <td>27.0</td>\n",
       "      <td>0.0</td>\n",
       "      <td>0.0</td>\n",
       "      <td>0.0</td>\n",
       "      <td>1.0</td>\n",
       "      <td>1.0</td>\n",
       "      <td>...</td>\n",
       "      <td>1.0</td>\n",
       "      <td>0.0</td>\n",
       "      <td>2.0</td>\n",
       "      <td>0.0</td>\n",
       "      <td>0.0</td>\n",
       "      <td>0.0</td>\n",
       "      <td>0.0</td>\n",
       "      <td>11.0</td>\n",
       "      <td>3.0</td>\n",
       "      <td>6.0</td>\n",
       "    </tr>\n",
       "    <tr>\n",
       "      <th>4</th>\n",
       "      <td>0.0</td>\n",
       "      <td>1.0</td>\n",
       "      <td>1.0</td>\n",
       "      <td>1.0</td>\n",
       "      <td>24.0</td>\n",
       "      <td>0.0</td>\n",
       "      <td>0.0</td>\n",
       "      <td>0.0</td>\n",
       "      <td>1.0</td>\n",
       "      <td>1.0</td>\n",
       "      <td>...</td>\n",
       "      <td>1.0</td>\n",
       "      <td>0.0</td>\n",
       "      <td>2.0</td>\n",
       "      <td>3.0</td>\n",
       "      <td>0.0</td>\n",
       "      <td>0.0</td>\n",
       "      <td>0.0</td>\n",
       "      <td>11.0</td>\n",
       "      <td>5.0</td>\n",
       "      <td>4.0</td>\n",
       "    </tr>\n",
       "  </tbody>\n",
       "</table>\n",
       "<p>5 rows × 22 columns</p>\n",
       "</div>"
      ],
      "text/plain": [
       "   Diabetes_012  HighBP  HighChol  CholCheck   BMI  Smoker  Stroke  \\\n",
       "0           0.0     1.0       1.0        1.0  40.0     1.0     0.0   \n",
       "1           0.0     0.0       0.0        0.0  25.0     1.0     0.0   \n",
       "2           0.0     1.0       1.0        1.0  28.0     0.0     0.0   \n",
       "3           0.0     1.0       0.0        1.0  27.0     0.0     0.0   \n",
       "4           0.0     1.0       1.0        1.0  24.0     0.0     0.0   \n",
       "\n",
       "   HeartDiseaseorAttack  PhysActivity  Fruits  ...  AnyHealthcare  \\\n",
       "0                   0.0           0.0     0.0  ...            1.0   \n",
       "1                   0.0           1.0     0.0  ...            0.0   \n",
       "2                   0.0           0.0     1.0  ...            1.0   \n",
       "3                   0.0           1.0     1.0  ...            1.0   \n",
       "4                   0.0           1.0     1.0  ...            1.0   \n",
       "\n",
       "   NoDocbcCost  GenHlth  MentHlth  PhysHlth  DiffWalk  Sex   Age  Education  \\\n",
       "0          0.0      5.0      18.0      15.0       1.0  0.0   9.0        4.0   \n",
       "1          1.0      3.0       0.0       0.0       0.0  0.0   7.0        6.0   \n",
       "2          1.0      5.0      30.0      30.0       1.0  0.0   9.0        4.0   \n",
       "3          0.0      2.0       0.0       0.0       0.0  0.0  11.0        3.0   \n",
       "4          0.0      2.0       3.0       0.0       0.0  0.0  11.0        5.0   \n",
       "\n",
       "   Income  \n",
       "0     3.0  \n",
       "1     1.0  \n",
       "2     8.0  \n",
       "3     6.0  \n",
       "4     4.0  \n",
       "\n",
       "[5 rows x 22 columns]"
      ]
     },
     "execution_count": 2,
     "metadata": {},
     "output_type": "execute_result"
    }
   ],
   "source": [
    "dm_df = pd.read_csv(Path(\"Resources/diabetes_indicators.csv\"), encoding=\"UTF-8\")\n",
    "dm_df.head()"
   ]
  },
  {
   "cell_type": "markdown",
   "metadata": {},
   "source": [
    "## Cleaning data"
   ]
  },
  {
   "cell_type": "code",
   "execution_count": 3,
   "metadata": {},
   "outputs": [],
   "source": [
    "# CONVERT DTYPES TO INT FOR EASIER DATA MANIPULATION\n",
    "dm_df = dm_df.astype(int)"
   ]
  },
  {
   "cell_type": "code",
   "execution_count": 4,
   "metadata": {},
   "outputs": [],
   "source": [
    "# SIMPLIFYING TARGET COLUMN TO ONLY 0 (no diabetes) AND 1 (diabetes or at-risk)\n",
    "dm_column = dm_df[\"Diabetes_012\"]\n",
    "dm_column_new = []\n",
    "for num in dm_column:\n",
    "    if num == 2:\n",
    "        dm_column_new.append(1)\n",
    "    else:\n",
    "        dm_column_new.append(num)"
   ]
  },
  {
   "cell_type": "code",
   "execution_count": 5,
   "metadata": {},
   "outputs": [],
   "source": [
    "# REPLACE TARGET COLUMN WITH NEW DATA\n",
    "dm_df[\"Diabetes_012\"] = dm_column_new"
   ]
  },
  {
   "cell_type": "markdown",
   "metadata": {},
   "source": [
    "## Train-test-split and StandardScaler"
   ]
  },
  {
   "cell_type": "code",
   "execution_count": 6,
   "metadata": {},
   "outputs": [],
   "source": [
    "# SPLITTING DATA INTO FEATURES (X) AND TARGET (y) ARRAYS\n",
    "X = dm_df.drop(columns=[\"Diabetes_012\"])\n",
    "y = dm_df[\"Diabetes_012\"]\n",
    "\n",
    "# SPLIT INTO TESTING AND TRAINING DATA\n",
    "X_train, X_test, y_train, y_test = train_test_split(X, y, random_state=0)"
   ]
  },
  {
   "cell_type": "code",
   "execution_count": 7,
   "metadata": {},
   "outputs": [],
   "source": [
    "# CREATING STANDARDSCALER INSTANCE\n",
    "scaler = StandardScaler()\n",
    "\n",
    "# FITTING DATA\n",
    "X_scaler = scaler.fit(X_train)\n",
    "\n",
    "# SCALING THE DATA\n",
    "X_train_scaled = X_scaler.transform(X_train)\n",
    "X_test_scaled = X_scaler.transform(X_test)"
   ]
  },
  {
   "cell_type": "markdown",
   "metadata": {},
   "source": [
    "## KerasTuner"
   ]
  },
  {
   "cell_type": "code",
   "execution_count": 59,
   "metadata": {},
   "outputs": [],
   "source": [
    "# KERASTUNER - AUTOTUNER FUNCTION\n",
    "#def create_model(hp):\n",
    "#    nn_model = tf.keras.models.Sequential()\n",
    "#    activation = hp.Choice('activation',['relu','tanh'])\n",
    "#    nn_model.add(tf.keras.layers.Dense(units=hp.Int('first_units',\n",
    "#        min_value=1,\n",
    "#        max_value=30,\n",
    "#        step=5), activation=activation, input_dim=21))\n",
    "\n",
    "#    for i in range(hp.Int('num_layers', 1, 5)):\n",
    "#        nn_model.add(tf.keras.layers.Dense(units=hp.Int('units_' + str(i),\n",
    "#            min_value=1,\n",
    "#            max_value=30,\n",
    "#            step=5), activation=activation))\n",
    "    \n",
    "#    nn_model.add(tf.keras.layers.Dense(units=1, activation='sigmoid'))\n",
    "\n",
    "#    nn_model.compile(loss=\"binary_crossentropy\", optimizer=\"adam\", metrics=[\"accuracy\"])\n",
    "\n",
    "#    return nn_model"
   ]
  },
  {
   "cell_type": "code",
   "execution_count": 60,
   "metadata": {},
   "outputs": [],
   "source": [
    "#tuner = kt.Hyperband(\n",
    "#    create_model,\n",
    "#    objective=\"val_accuracy\",\n",
    "#    max_epochs=20,\n",
    "#    hyperband_iterations=2\n",
    "#)"
   ]
  },
  {
   "cell_type": "code",
   "execution_count": 61,
   "metadata": {},
   "outputs": [
    {
     "name": "stdout",
     "output_type": "stream",
     "text": [
      "Trial 60 Complete [00h 04m 01s]\n",
      "val_accuracy: 0.8520498275756836\n",
      "\n",
      "Best val_accuracy So Far: 0.8526490330696106\n",
      "Total elapsed time: 01h 25m 18s\n"
     ]
    }
   ],
   "source": [
    "# KERASTUNER SEARCHING FOR BEST PARAMETERS\n",
    "#tuner.search(X_train_scaled, y_train, epochs=20, validation_data=(X_test_scaled, y_test))"
   ]
  },
  {
   "cell_type": "code",
   "execution_count": 67,
   "metadata": {},
   "outputs": [
    {
     "name": "stdout",
     "output_type": "stream",
     "text": [
      "{'activation': 'tanh', 'first_units': 26, 'num_layers': 4, 'units_0': 26, 'units_1': 1, 'units_2': 1, 'units_3': 26, 'units_4': 21, 'tuner/epochs': 20, 'tuner/initial_epoch': 0, 'tuner/bracket': 0, 'tuner/round': 0}\n",
      "{'activation': 'relu', 'first_units': 21, 'num_layers': 1, 'units_0': 21, 'units_1': 1, 'units_2': 21, 'units_3': 6, 'units_4': 26, 'tuner/epochs': 20, 'tuner/initial_epoch': 7, 'tuner/bracket': 2, 'tuner/round': 2, 'tuner/trial_id': '0042'}\n"
     ]
    }
   ],
   "source": [
    "# TOP 2 PARAMETERS\n",
    "#top_hyper = tuner.get_best_hyperparameters(2)\n",
    "#for param in top_hyper:\n",
    "#    print(param.values)"
   ]
  },
  {
   "cell_type": "markdown",
   "metadata": {},
   "source": [
    "## Testing top model"
   ]
  },
  {
   "cell_type": "code",
   "execution_count": 9,
   "metadata": {},
   "outputs": [
    {
     "name": "stdout",
     "output_type": "stream",
     "text": [
      "Model: \"sequential\"\n",
      "_________________________________________________________________\n",
      " Layer (type)                Output Shape              Param #   \n",
      "=================================================================\n",
      " dense (Dense)               (None, 26)                572       \n",
      "                                                                 \n",
      " dense_1 (Dense)             (None, 1)                 27        \n",
      "                                                                 \n",
      " dense_2 (Dense)             (None, 1)                 2         \n",
      "                                                                 \n",
      " dense_3 (Dense)             (None, 26)                52        \n",
      "                                                                 \n",
      " dense_4 (Dense)             (None, 21)                567       \n",
      "                                                                 \n",
      " dense_5 (Dense)             (None, 1)                 22        \n",
      "                                                                 \n",
      "=================================================================\n",
      "Total params: 1242 (4.85 KB)\n",
      "Trainable params: 1242 (4.85 KB)\n",
      "Non-trainable params: 0 (0.00 Byte)\n",
      "_________________________________________________________________\n"
     ]
    }
   ],
   "source": [
    "num_input_features = 21\n",
    "hidden_nodes_layer1 = 26\n",
    "hidden_nodes_layer2 = 1\n",
    "hidden_nodes_layer3 = 1\n",
    "hidden_nodes_layer4 = 26\n",
    "hidden_nodes_layer5 = 21\n",
    "\n",
    "nn = tf.keras.models.Sequential()\n",
    "\n",
    "nn.add(\n",
    "    tf.keras.layers.Dense(units=hidden_nodes_layer1, input_dim=num_input_features, activation='tanh')\n",
    ")\n",
    "\n",
    "nn.add(tf.keras.layers.Dense(units=hidden_nodes_layer2, activation='tanh'))\n",
    "nn.add(tf.keras.layers.Dense(units=hidden_nodes_layer3, activation='tanh'))\n",
    "nn.add(tf.keras.layers.Dense(units=hidden_nodes_layer4, activation='tanh'))\n",
    "nn.add(tf.keras.layers.Dense(units=hidden_nodes_layer5, activation='tanh'))\n",
    "\n",
    "nn.add(tf.keras.layers.Dense(units=1, activation='sigmoid'))\n",
    "\n",
    "nn.summary()"
   ]
  },
  {
   "cell_type": "code",
   "execution_count": 10,
   "metadata": {},
   "outputs": [],
   "source": [
    "nn.compile(loss='binary_crossentropy', optimizer='adam', metrics=['accuracy'])"
   ]
  },
  {
   "cell_type": "code",
   "execution_count": 11,
   "metadata": {},
   "outputs": [
    {
     "name": "stdout",
     "output_type": "stream",
     "text": [
      "Epoch 1/50\n",
      "5946/5946 [==============================] - 9s 1ms/step - loss: 0.3514 - accuracy: 0.8440\n",
      "Epoch 2/50\n",
      "5946/5946 [==============================] - 8s 1ms/step - loss: 0.3435 - accuracy: 0.8489\n",
      "Epoch 3/50\n",
      "5946/5946 [==============================] - 8s 1ms/step - loss: 0.3415 - accuracy: 0.8498\n",
      "Epoch 4/50\n",
      "5946/5946 [==============================] - 9s 2ms/step - loss: 0.3407 - accuracy: 0.8502\n",
      "Epoch 5/50\n",
      "5946/5946 [==============================] - 10s 2ms/step - loss: 0.3402 - accuracy: 0.8507\n",
      "Epoch 6/50\n",
      "5946/5946 [==============================] - 10s 2ms/step - loss: 0.3399 - accuracy: 0.8505\n",
      "Epoch 7/50\n",
      "5946/5946 [==============================] - 10s 2ms/step - loss: 0.3398 - accuracy: 0.8507\n",
      "Epoch 8/50\n",
      "5946/5946 [==============================] - 10s 2ms/step - loss: 0.3394 - accuracy: 0.8509\n",
      "Epoch 9/50\n",
      "5946/5946 [==============================] - 12s 2ms/step - loss: 0.3394 - accuracy: 0.8506\n",
      "Epoch 10/50\n",
      "5946/5946 [==============================] - 12s 2ms/step - loss: 0.3392 - accuracy: 0.8507\n",
      "Epoch 11/50\n",
      "5946/5946 [==============================] - 12s 2ms/step - loss: 0.3391 - accuracy: 0.8508\n",
      "Epoch 12/50\n",
      "5946/5946 [==============================] - 12s 2ms/step - loss: 0.3392 - accuracy: 0.8506\n",
      "Epoch 13/50\n",
      "5946/5946 [==============================] - 12s 2ms/step - loss: 0.3390 - accuracy: 0.8512\n",
      "Epoch 14/50\n",
      "5946/5946 [==============================] - 12s 2ms/step - loss: 0.3389 - accuracy: 0.8506\n",
      "Epoch 15/50\n",
      "5946/5946 [==============================] - 12s 2ms/step - loss: 0.3388 - accuracy: 0.8512\n",
      "Epoch 16/50\n",
      "5946/5946 [==============================] - 12s 2ms/step - loss: 0.3389 - accuracy: 0.8509\n",
      "Epoch 17/50\n",
      "5946/5946 [==============================] - 12s 2ms/step - loss: 0.3388 - accuracy: 0.8511\n",
      "Epoch 18/50\n",
      "5946/5946 [==============================] - 12s 2ms/step - loss: 0.3386 - accuracy: 0.8513\n",
      "Epoch 19/50\n",
      "5946/5946 [==============================] - 12s 2ms/step - loss: 0.3386 - accuracy: 0.8505\n",
      "Epoch 20/50\n",
      "5946/5946 [==============================] - 12s 2ms/step - loss: 0.3387 - accuracy: 0.8510\n",
      "Epoch 21/50\n",
      "5946/5946 [==============================] - 13s 2ms/step - loss: 0.3386 - accuracy: 0.8512\n",
      "Epoch 22/50\n",
      "5946/5946 [==============================] - 13s 2ms/step - loss: 0.3384 - accuracy: 0.8509\n",
      "Epoch 23/50\n",
      "5946/5946 [==============================] - 13s 2ms/step - loss: 0.3385 - accuracy: 0.8508\n",
      "Epoch 24/50\n",
      "5946/5946 [==============================] - 12s 2ms/step - loss: 0.3383 - accuracy: 0.8508\n",
      "Epoch 25/50\n",
      "5946/5946 [==============================] - 12s 2ms/step - loss: 0.3383 - accuracy: 0.8516\n",
      "Epoch 26/50\n",
      "5946/5946 [==============================] - 13s 2ms/step - loss: 0.3383 - accuracy: 0.8511\n",
      "Epoch 27/50\n",
      "5946/5946 [==============================] - 13s 2ms/step - loss: 0.3382 - accuracy: 0.8508\n",
      "Epoch 28/50\n",
      "5946/5946 [==============================] - 12s 2ms/step - loss: 0.3382 - accuracy: 0.8509\n",
      "Epoch 29/50\n",
      "5946/5946 [==============================] - 13s 2ms/step - loss: 0.3381 - accuracy: 0.8512\n",
      "Epoch 30/50\n",
      "5946/5946 [==============================] - 12s 2ms/step - loss: 0.3380 - accuracy: 0.8516\n",
      "Epoch 31/50\n",
      "5946/5946 [==============================] - 13s 2ms/step - loss: 0.3381 - accuracy: 0.8507\n",
      "Epoch 32/50\n",
      "5946/5946 [==============================] - 13s 2ms/step - loss: 0.3380 - accuracy: 0.8511\n",
      "Epoch 33/50\n",
      "5946/5946 [==============================] - 13s 2ms/step - loss: 0.3381 - accuracy: 0.8511\n",
      "Epoch 34/50\n",
      "5946/5946 [==============================] - 13s 2ms/step - loss: 0.3380 - accuracy: 0.8509\n",
      "Epoch 35/50\n",
      "5946/5946 [==============================] - 12s 2ms/step - loss: 0.3380 - accuracy: 0.8508\n",
      "Epoch 36/50\n",
      "5946/5946 [==============================] - 12s 2ms/step - loss: 0.3380 - accuracy: 0.8511\n",
      "Epoch 37/50\n",
      "5946/5946 [==============================] - 12s 2ms/step - loss: 0.3379 - accuracy: 0.8514\n",
      "Epoch 38/50\n",
      "5946/5946 [==============================] - 12s 2ms/step - loss: 0.3380 - accuracy: 0.8508\n",
      "Epoch 39/50\n",
      "5946/5946 [==============================] - 12s 2ms/step - loss: 0.3380 - accuracy: 0.8508\n",
      "Epoch 40/50\n",
      "5946/5946 [==============================] - 13s 2ms/step - loss: 0.3379 - accuracy: 0.8509\n",
      "Epoch 41/50\n",
      "5946/5946 [==============================] - 12s 2ms/step - loss: 0.3380 - accuracy: 0.8513\n",
      "Epoch 42/50\n",
      "5946/5946 [==============================] - 13s 2ms/step - loss: 0.3378 - accuracy: 0.8510\n",
      "Epoch 43/50\n",
      "5946/5946 [==============================] - 12s 2ms/step - loss: 0.3379 - accuracy: 0.8513\n",
      "Epoch 44/50\n",
      "5946/5946 [==============================] - 12s 2ms/step - loss: 0.3377 - accuracy: 0.8511\n",
      "Epoch 45/50\n",
      "5946/5946 [==============================] - 13s 2ms/step - loss: 0.3379 - accuracy: 0.8510\n",
      "Epoch 46/50\n",
      "5946/5946 [==============================] - 14s 2ms/step - loss: 0.3378 - accuracy: 0.8513\n",
      "Epoch 47/50\n",
      "5946/5946 [==============================] - 11s 2ms/step - loss: 0.3380 - accuracy: 0.8513\n",
      "Epoch 48/50\n",
      "5946/5946 [==============================] - 11s 2ms/step - loss: 0.3376 - accuracy: 0.8508\n",
      "Epoch 49/50\n",
      "5946/5946 [==============================] - 10s 2ms/step - loss: 0.3378 - accuracy: 0.8510\n",
      "Epoch 50/50\n",
      "5946/5946 [==============================] - 10s 2ms/step - loss: 0.3378 - accuracy: 0.8514\n"
     ]
    }
   ],
   "source": [
    "fit_model = nn.fit(X_train_scaled, y_train, epochs=50)"
   ]
  },
  {
   "cell_type": "code",
   "execution_count": 12,
   "metadata": {},
   "outputs": [
    {
     "name": "stdout",
     "output_type": "stream",
     "text": [
      "1982/1982 - 2s - loss: 0.3419 - accuracy: 0.8500 - 2s/epoch - 892us/step\n",
      "Loss: 0.3419131636619568, Accuracy: 0.8499842286109924\n"
     ]
    }
   ],
   "source": [
    "model_loss, model_accuracy = nn.evaluate(X_test_scaled, y_test, verbose=2)\n",
    "print(f\"Loss: {model_loss}, Accuracy: {model_accuracy}\")"
   ]
  }
 ],
 "metadata": {
  "kernelspec": {
   "display_name": "dev",
   "language": "python",
   "name": "python3"
  },
  "language_info": {
   "codemirror_mode": {
    "name": "ipython",
    "version": 3
   },
   "file_extension": ".py",
   "mimetype": "text/x-python",
   "name": "python",
   "nbconvert_exporter": "python",
   "pygments_lexer": "ipython3",
   "version": "3.10.11"
  }
 },
 "nbformat": 4,
 "nbformat_minor": 2
}
